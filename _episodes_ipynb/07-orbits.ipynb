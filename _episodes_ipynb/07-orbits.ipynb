{
 "cells": [
  {
   "cell_type": "markdown",
   "metadata": {},
   "source": [
    "---\n",
    "title: Orbits\n",
    "teaching: 30\n",
    "exercises: 0\n",
    "questions:\n",
    "- \"...\"\n",
    "objectives:\n",
    "- \"...\"\n",
    "---\n",
    "\n",
    "Make an icosahedron by picking a seed vector on a 5-fold axis"
   ]
  },
  {
   "cell_type": "code",
   "execution_count": null,
   "metadata": {
    "collapsed": false
   },
   "outputs": [],
   "source": [
    "icosahedron_dupl = []\n",
    "T5 = vector([0,1,1.618]) \n",
    "seed = T5\n",
    "for i in range(counteven):\n",
    "    icosahedron_dupl.append(g_even[i] * seed)\n",
    "\n",
    "\n",
    "\n",
    "# now delete duplicates - do ito golden ratio, or round or convert to set etc\n",
    "\n",
    "icosahedron_dupl\n",
    "\n",
    "icosahedron = []\n",
    "\n",
    "\n",
    "# define function take orbit"
   ]
  },
  {
   "cell_type": "markdown",
   "metadata": {},
   "source": [
    "Make a dodecahedron by picking a seed vector on a 3-fold axis"
   ]
  },
  {
   "cell_type": "code",
   "execution_count": null,
   "metadata": {
    "collapsed": false
   },
   "outputs": [],
   "source": [
    "dodecahedron = []\n",
    "T3 = vector([1,1,1]) \n",
    "seed = T3\n",
    "for i in range(counteven):\n",
    "    dodecahedron.append(g_even[i] * seed)\n",
    "\n",
    "\n",
    "\n",
    "# now delete duplicates - do ito golden ratio, or round or convert to set etc\n",
    "# define function take orbit"
   ]
  },
  {
   "cell_type": "markdown",
   "metadata": {},
   "source": [
    "Make a icosidodecahedron by picking a seed vector on a 2-fold axis"
   ]
  },
  {
   "cell_type": "code",
   "execution_count": null,
   "metadata": {
    "collapsed": false
   },
   "outputs": [],
   "source": [
    "icosidodecahedron = []\n",
    "T2 = vector([1,0,0]) \n",
    "seed = T2\n",
    "for i in range(counteven):\n",
    "    icosidodecahedron.append(g_even[i] * seed)\n",
    "\n",
    "# plot\n",
    "# now delete duplicates - do ito golden ratio, or round or convert to set etc\n",
    "\n"
   ]
  }
 ],
 "metadata": {
  "kernelspec": {
   "display_name": "SageMath 7.4",
   "language": "",
   "name": "sagemath"
  },
  "language_info": {
   "codemirror_mode": {
    "name": "ipython",
    "version": 2
   },
   "file_extension": ".py",
   "mimetype": "text/x-python",
   "name": "python",
   "nbconvert_exporter": "python",
   "pygments_lexer": "ipython2",
   "version": "2.7.10"
  }
 },
 "nbformat": 4,
 "nbformat_minor": 0
}
