{
 "cells": [
  {
   "cell_type": "markdown",
   "metadata": {},
   "source": [
    "---\n",
    "title: Cartan matrix and Perron-Frobenius eigenvector\n",
    "teaching: 30\n",
    "exercises: 0\n",
    "questions:\n",
    "- \"...\"\n",
    "objectives:\n",
    "- \"...\"\n",
    "---"
   ]
  },
  {
   "cell_type": "code",
   "execution_count": 38,
   "metadata": {
    "collapsed": true
   },
   "outputs": [],
   "source": [
    "# define Cartan matrix - function of arbitrary number of vectors?\n",
    "\n",
    "# find eigenvalues using SAGE routine\n",
    "\n",
    "# find the Perron-Frobenius eigenvalue\n",
    "\n",
    "def Cartan_matrix(Delta, symbolic=False):\n",
    "    \"\"\"\n",
    "    Return the Cartan matrix for a simple system\n",
    "    \n",
    "    INPUT:\n",
    "    \n",
    "    - ``Delta`` -- list of vectors or any iterable that can be turned into a vector\n",
    "    - \n",
    "\n",
    "    EXAMPLES::\n",
    "\n",
    "        sage: Delta = ((1, 0, 0)), ((0, 1, 0)), ((0, 0, 1))\n",
    "        sage: C = Cartan_matrix(Delta)\n",
    "        sage: C\n",
    "        [2 0 0]\n",
    "        [0 2 0]\n",
    "        [0 0 2]\n",
    "    \"\"\"\n",
    "    Delta=[vector(v) for v in Delta]\n",
    "\n",
    "    M = matrix([[2 / w.dot_product(w) * v.dot_product(w) for w in Delta] for v in Delta])\n",
    "    \n",
    "    if symbolic:\n",
    "        M = M.apply_map(expand)\n",
    "        \n",
    "    return M"
   ]
  },
  {
   "cell_type": "code",
   "execution_count": 73,
   "metadata": {
    "collapsed": false
   },
   "outputs": [
    {
     "data": {
      "text/plain": [
       "[                 2                 -1                  0]\n",
       "[                -1                  2 -1/2*sqrt(5) - 1/2]\n",
       "[                 0 -1/2*sqrt(5) - 1/2                  2]"
      ]
     },
     "execution_count": 73,
     "metadata": {},
     "output_type": "execute_result"
    }
   ],
   "source": [
    "Delta = ((0, 1, 0)), ((-1/4*(1+sqrt(5)), -1/2, 1/4*(1-sqrt(5)))), ((1, 0, 0))\n",
    "\n",
    "Delta\n",
    "\n",
    "C = Cartan_matrix(Delta, symbolic=True)\n",
    "C"
   ]
  },
  {
   "cell_type": "code",
   "execution_count": 132,
   "metadata": {
    "collapsed": false
   },
   "outputs": [
    {
     "data": {
      "text/plain": [
       "[(-1/2*sqrt(2*sqrt(5) + 10) + 2,\n",
       "  [(1, 1/2*sqrt(2*sqrt(5) + 10), 1/2*sqrt(5) + 1/2)],\n",
       "  1),\n",
       " (1/2*sqrt(2*sqrt(5) + 10) + 2,\n",
       "  [(1, -1/2*sqrt(2*sqrt(5) + 10), 1/2*sqrt(5) + 1/2)],\n",
       "  1),\n",
       " (2, [(1, 0, -1/2*sqrt(5) + 1/2)], 1)]"
      ]
     },
     "execution_count": 132,
     "metadata": {},
     "output_type": "execute_result"
    }
   ],
   "source": [
    "E = C.eigenvectors_right()\n",
    "E\n",
    "\n",
    "  \n",
    "A=QQbar(E[1][1][0][2])\n",
    "A\n",
    "E"
   ]
  },
  {
   "cell_type": "code",
   "execution_count": 142,
   "metadata": {
    "collapsed": false
   },
   "outputs": [
    {
     "name": "stdout",
     "output_type": "stream",
     "text": [
      "(1, 1/2*sqrt(2*sqrt(5) + 10), 1/2*sqrt(5) + 1/2)\n"
     ]
    }
   ],
   "source": [
    "# find PF eigenvector i.e. all coefficients of the same sign\n",
    "for i in range(3):\n",
    "    tmp = E[i][1][0]\n",
    "    if all (x * tmp[0] > 0 for x in tmp):\n",
    "        print(tmp)\n",
    " "
   ]
  },
  {
   "cell_type": "code",
   "execution_count": 71,
   "metadata": {
    "collapsed": true
   },
   "outputs": [],
   "source": [
    "# find duals to roots (weights), construct two vectors from two-colouring of the graph and the PF evec just found; orthonormalise and project root system into this plane\n"
   ]
  }
 ],
 "metadata": {
  "kernelspec": {
   "display_name": "SageMath 7.4",
   "language": "",
   "name": "sagemath"
  },
  "language_info": {
   "codemirror_mode": {
    "name": "ipython",
    "version": 2
   },
   "file_extension": ".py",
   "mimetype": "text/x-python",
   "name": "python",
   "nbconvert_exporter": "python",
   "pygments_lexer": "ipython2",
   "version": "2.7.10"
  }
 },
 "nbformat": 4,
 "nbformat_minor": 0
}
