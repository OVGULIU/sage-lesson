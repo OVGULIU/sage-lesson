{
 "cells": [
  {
   "cell_type": "markdown",
   "metadata": {},
   "source": [
    "---\n",
    "title: More advanced Caspar-Klug orbits and pymol visualisation\n",
    "teaching: 30\n",
    "exercises: 0\n",
    "questions:\n",
    "- \"...\"\n",
    "objectives:\n",
    "- \"...\"\n",
    "---"
   ]
  },
  {
   "cell_type": "code",
   "execution_count": 1,
   "metadata": {
    "collapsed": false
   },
   "outputs": [
    {
     "data": {
      "text/plain": [
       "[[0.904721509025590, 0.0879675935421300, 0.416822136685000],\n",
       " [0.979660168810660, 0.0952540054366200, 0.176614348770000],\n",
       " [0.894764055651420, 0.317512115546100, 0.313979842320000],\n",
       " [0.986175314321600, 0.165705309322800, 0]]"
      ]
     },
     "execution_count": 1,
     "metadata": {},
     "output_type": "execute_result"
    }
   ],
   "source": [
    "seeds = [[ 0.904721509025590, 0.0879675935421300, 0.416822136685000], \n",
    "[0.979660168810660, 0.0952540054366200, 0.176614348770000], \n",
    "[0.894764055651420, 0.317512115546100, 0.313979842320000],\n",
    "[0.986175314321600, 0.165705309322800, 0]]\n",
    "seeds\n",
    "\n",
    "T4capsid = []\n",
    "\n",
    "for seed in seeds:\n",
    "    for i in range(count_even):\n",
    "        T4capsid.append(g_even[i] * seed)\n",
    "        \n",
    "point3d(T4capsid, size=100)\n",
    "        \n",
    "        "
   ]
  }
 ],
 "metadata": {
  "kernelspec": {
   "display_name": "SageMath 7.4",
   "language": "",
   "name": "sagemath"
  },
  "language_info": {
   "codemirror_mode": {
    "name": "ipython",
    "version": 2
   },
   "file_extension": ".py",
   "mimetype": "text/x-python",
   "name": "python",
   "nbconvert_exporter": "python",
   "pygments_lexer": "ipython2",
   "version": "2.7.10"
  }
 },
 "nbformat": 4,
 "nbformat_minor": 0
}
