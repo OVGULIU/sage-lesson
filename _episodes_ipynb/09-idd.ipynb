{
 "cells": [
  {
   "cell_type": "markdown",
   "metadata": {},
   "source": [
    "---\n",
    "title: IDD\n",
    "teaching: 30\n",
    "exercises: 0\n",
    "questions:\n",
    "- \"...\"\n",
    "objectives:\n",
    "- \"...\"\n",
    "---\n",
    "\n",
    "Show IDD is a root system."
   ]
  },
  {
   "cell_type": "code",
   "execution_count": null,
   "metadata": {
    "collapsed": false
   },
   "outputs": [],
   "source": [
    "IDD=icosidodecahedron\n",
    "\n",
    "for points in IDD:\n",
    "    if not (-points in IDD):\n",
    "        print(\"first axiom violated\")\n",
    "\n",
    "for points in IDD:\n",
    "    for refl in IDD:\n",
    "        tmp = reflection_matrix(refl[1], n2=refl[2], n3=refl[3]) * points\n",
    "        if not (tmp in IDD):\n",
    "            print(\"second axiom violated\", tmp)\n",
    "\n"
   ]
  }
 ],
 "metadata": {
  "kernelspec": {
   "display_name": "SageMath 7.4",
   "language": "",
   "name": "sagemath"
  },
  "language_info": {
   "codemirror_mode": {
    "name": "ipython",
    "version": 2
   },
   "file_extension": ".py",
   "mimetype": "text/x-python",
   "name": "python",
   "nbconvert_exporter": "python",
   "pygments_lexer": "ipython2",
   "version": "2.7.10"
  }
 },
 "nbformat": 4,
 "nbformat_minor": 0
}
