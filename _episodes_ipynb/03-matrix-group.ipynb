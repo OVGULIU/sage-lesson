{
 "cells": [
  {
   "cell_type": "markdown",
   "metadata": {
    "collapsed": false
   },
   "source": [
    "---\n",
    "title: Elements of programming and 3D graphics\n",
    "teaching: 30\n",
    "exercises: 0\n",
    "questions:\n",
    "- \"...\"\n",
    "objectives:\n",
    "- \"...\"\n",
    "---"
   ]
  },
  {
   "cell_type": "markdown",
   "metadata": {
    "collapsed": false
   },
   "source": [
    "The following is a list of points in 3D, that we wish to plot - they are actually the vertices of an icosahedron, $\\tau$ is the golden ratio we had above $1/2(1+\\sqrt{5})$\n",
    "\n",
    "#TODO: question - could go to Hamiltonian cycles now?"
   ]
  },
  {
   "cell_type": "code",
   "execution_count": 1,
   "metadata": {
    "collapsed": false,
    "scrolled": true
   },
   "outputs": [
    {
     "data": {
      "text/html": "\n<iframe srcdoc=\"\n<html>\n<head>\n  <style>\n    * {\n      margin: 0;\n      padding: 0;\n      overflow: hidden;\n    }\n    body, html {      \n      height: 100%;\n      width: 100%;\n    }\n  </style>\n  <script type=&quot;text/javascript&quot; src=&quot;/nbextensions/jsmol/JSmol.min.js&quot;></script>\n</head>\n<body>\n  <script type=&quot;text/javascript&quot;>\n    var script = [\n  'data &quot;model list&quot;',\n  '10',\n  'empty',\n  'Xx -3.0 -4.0 -3.0',\n  'Xx 0.0 -4.0 -3.0',\n  'Xx 3.0 -4.0 -3.0',\n  'Xx 4.0 -3.0 -3.0',\n  'Xx 4.0 0.0 -3.0',\n  'Xx 4.0 3.0 -3.0',\n  'Xx -4.0 -3.0 -3.0',\n  'Xx -4.0 -3.0 0.0',\n  'Xx -4.0 -3.0 3.0',\n  'Xx 5.5 5.5 5.5',\n  'end &quot;model list&quot;; show data',\n  'select *',\n  'wireframe off; spacefill off',\n  'set labelOffset 0 0',\n  'background [255,255,255]',\n  'spin OFF',\n  'moveto 0 -764 -346 -545 76.39',\n  'centerAt absolute {0 0 0}',\n  'zoom 100',\n  'frank OFF',\n  'set perspectivedepth ON',\n  'draw point_1 DIAMETER 50 {1.85299567634 0.0 3.0}',\n  'color $point_1  [102,102,255]',\n  'draw point_2 DIAMETER 50 {-1.85299567634 0.0 3.0}',\n  'color $point_2  [102,102,255]',\n  'draw point_3 DIAMETER 50 {1.85299567634 0.0 -3.0}',\n  'color $point_3  [102,102,255]',\n  'draw point_4 DIAMETER 50 {-1.85299567634 0.0 -3.0}',\n  'color $point_4  [102,102,255]',\n  'draw point_5 DIAMETER 50 {0.0 3.0 1.85299567634}',\n  'color $point_5  [102,102,255]',\n  'draw point_6 DIAMETER 50 {0.0 3.0 -1.85299567634}',\n  'color $point_6  [102,102,255]',\n  'draw point_7 DIAMETER 50 {0.0 -3.0 1.85299567634}',\n  'color $point_7  [102,102,255]',\n  'draw point_8 DIAMETER 50 {0.0 -3.0 -1.85299567634}',\n  'color $point_8  [102,102,255]',\n  'draw point_9 DIAMETER 50 {3.0 1.85299567634 0.0}',\n  'color $point_9  [102,102,255]',\n  'draw point_10 DIAMETER 50 {3.0 -1.85299567634 0.0}',\n  'color $point_10  [102,102,255]',\n  'draw point_11 DIAMETER 50 {-3.0 1.85299567634 0.0}',\n  'color $point_11  [102,102,255]',\n  'draw point_12 DIAMETER 50 {-3.0 -1.85299567634 0.0}',\n  'color $point_12  [102,102,255]',\n  'draw line_13 diameter 1 curve {-3.0 -3.0 -3.0}  {-3.0 3.0 -3.0} ',\n  'color $line_13 translucent 0.5 [0,0,0]',\n  'draw line_14 diameter 1 curve {-3.0 3.0 -3.0}  {3.0 3.0 -3.0} ',\n  'color $line_14 translucent 0.5 [0,0,0]',\n  'draw line_15 diameter 1 curve {3.0 3.0 -3.0}  {3.0 -3.0 -3.0} ',\n  'color $line_15 translucent 0.5 [0,0,0]',\n  'draw line_16 diameter 1 curve {3.0 -3.0 -3.0}  {-3.0 -3.0 -3.0} ',\n  'color $line_16 translucent 0.5 [0,0,0]',\n  'draw line_17 diameter 1 curve {-3.0 -3.0 -3.0}  {-3.0 -3.0 3.0} ',\n  'color $line_17 translucent 0.5 [0,0,0]',\n  'draw line_18 diameter 1 curve {-3.0 -3.0 3.0}  {-3.0 3.0 3.0} ',\n  'color $line_18 translucent 0.5 [0,0,0]',\n  'draw line_19 diameter 1 curve {-3.0 3.0 3.0}  {3.0 3.0 3.0} ',\n  'color $line_19 translucent 0.5 [0,0,0]',\n  'draw line_20 diameter 1 curve {3.0 3.0 3.0}  {3.0 -3.0 3.0} ',\n  'color $line_20 translucent 0.5 [0,0,0]',\n  'draw line_21 diameter 1 curve {3.0 -3.0 3.0}  {-3.0 -3.0 3.0} ',\n  'color $line_21 translucent 0.5 [0,0,0]',\n  'draw line_22 diameter 1 curve {-3.0 -3.0 3.0} ',\n  'color $line_22 translucent 0.5 [0,0,0]',\n  'draw line_23 diameter 1 curve {-3.0 3.0 -3.0}  {-3.0 3.0 3.0} ',\n  'color $line_23 translucent 0.5 [0,0,0]',\n  'draw line_24 diameter 1 curve {3.0 -3.0 -3.0}  {3.0 -3.0 3.0} ',\n  'color $line_24 translucent 0.5 [0,0,0]',\n  'draw line_25 diameter 1 curve {3.0 3.0 -3.0}  {3.0 3.0 3.0} ',\n  'color $line_25 translucent 0.5 [0,0,0]',\n  'select atomno = 1',\n  'color atom  [76,76,76]',\n  'label &quot;-1.6&quot;',\n  'select atomno = 2',\n  'color atom  [76,76,76]',\n  'label &quot;0.0&quot;',\n  'select atomno = 3',\n  'color atom  [76,76,76]',\n  'label &quot;1.6&quot;',\n  'select atomno = 4',\n  'color atom  [76,76,76]',\n  'label &quot;-1.6&quot;',\n  'select atomno = 5',\n  'color atom  [76,76,76]',\n  'label &quot;0.0&quot;',\n  'select atomno = 6',\n  'color atom  [76,76,76]',\n  'label &quot;1.6&quot;',\n  'select atomno = 7',\n  'color atom  [76,76,76]',\n  'label &quot;-1.6&quot;',\n  'select atomno = 8',\n  'color atom  [76,76,76]',\n  'label &quot;0.0&quot;',\n  'select atomno = 9',\n  'color atom  [76,76,76]',\n  'label &quot;1.6&quot;',\n  'isosurface fullylit; pmesh o* fullylit; set antialiasdisplay on;',\n].join('\\n');;\n    var Info = {\n      width: '100%',\n      height: '500',\n      debug: false,\n      disableInitialConsole: true,   // very slow when used with inline mesh\n      color: '#3131ff',\n      addSelectionOptions: false,\n      use: 'HTML5',\n      j2sPath: '/nbextensions/jsmol/j2s',\n      script: script,\n    };\n    var jmolApplet0 = Jmol.getApplet('jmolApplet0', Info);\n  </script>\n</body>\n</html>\n\" \n        width=\"100%\"\n        height=\"500\"\n        style=\"border: 0;\">\n</iframe>\n"
     },
     "execution_count": 1,
     "metadata": {
     },
     "output_type": "execute_result"
    }
   ],
   "source": [
    "tau = 1.619\n",
    "\n",
    "icos_vertex_list = [[1,0,tau], [-1,0,tau], [1,0,-tau], [-1,0,-tau], [0, tau, 1], [0, tau, -1], [0, -tau, 1], [0, -tau, -1], [tau, 1, 0], [tau, -1, 0], [-tau, 1, 0], [-tau, -1, 0]]\n",
    "\n",
    "point3d(icos_vertex_list, size=50)"
   ]
  },
  {
   "cell_type": "markdown",
   "metadata": {
    "collapsed": false
   },
   "source": [
    "For next step you need to use some programming language, as doing this interactively is not productive. First we need to introduce some notions, namely ranges, loops and conditional statements."
   ]
  },
  {
   "cell_type": "code",
   "execution_count": 2,
   "metadata": {
    "collapsed": false
   },
   "outputs": [
    {
     "name": "stdout",
     "output_type": "stream",
     "text": [
      "1\n",
      "2\n",
      "3\n",
      "4\n",
      "5\n"
     ]
    }
   ],
   "source": [
    "for n in range(1,6):\n",
    "    print(n)"
   ]
  },
  {
   "cell_type": "markdown",
   "metadata": {
    "collapsed": false
   },
   "source": [
    "We now do a double loop over two variables with a non-trivial 'function'. This gives the 'allowed' triangulation numbers in Caspar-Klug theory. Note that we define this as a set, so that the order does not matter and duplicates do not occur. "
   ]
  },
  {
   "cell_type": "code",
   "execution_count": 3,
   "metadata": {
    "collapsed": false
   },
   "outputs": [
    {
     "data": {
      "text/plain": [
       "{0, 1, 3, 4, 7, 9, 12, 13, 16, 19, 21, 25, 27, 28, 31, 37, 39, 48, 49, 61, 75}"
      ]
     },
     "execution_count": 3,
     "metadata": {
     },
     "output_type": "execute_result"
    }
   ],
   "source": [
    "l=set([])\n",
    "for h in range(0,6):\n",
    "    for k in range(0,6):\n",
    "        l.add(h^2+h*k+k^2)\n",
    "l"
   ]
  },
  {
   "cell_type": "markdown",
   "metadata": {
    "collapsed": false
   },
   "source": [
    "Now let us loop over a larger range, and combine this with an if statement. We are generating large numbers of 'allowed' triangulation numbers. But say, we are only interested in finding potential $(h,k)$ pairs that give rise to the largest known triangulation in a virus, which for now (2018) is $499$ for Cafeteria roenbergensis virus (https://www.ncbi.nlm.nih.gov/pmc/articles/PMC5511168/). "
   ]
  },
  {
   "cell_type": "code",
   "execution_count": 4,
   "metadata": {
    "collapsed": false
   },
   "outputs": [
    {
     "name": "stdout",
     "output_type": "stream",
     "text": [
      "(7, 18)\n"
     ]
    }
   ],
   "source": [
    "for h in range(0,20):\n",
    "    for k in range(h,20):\n",
    "        t = h^2+h*k+k^2\n",
    "        if t == 499:\n",
    "            print(h, k)"
   ]
  },
  {
   "cell_type": "markdown",
   "metadata": {
    "collapsed": false
   },
   "source": [
    "So there is a unique pair (up to chirality).\n",
    "\n",
    "In the following example, we check that there is only one unordered 5-tuple of nonegative integers such that one of these integers is 1, and the sum of their squares is 60 (those familiar with group theory will recognise that this gives the dimensions of irreducible representations of the icosahedral group). This also uses a couple of nested for loops combined with  an if statement to show the uniquess of the solution 'by brute force'/enumeration. "
   ]
  },
  {
   "cell_type": "code",
   "execution_count": 5,
   "metadata": {
    "collapsed": false
   },
   "outputs": [
    {
     "name": "stdout",
     "output_type": "stream",
     "text": [
      "(1, 3, 3, 4, 5)\n"
     ]
    }
   ],
   "source": [
    "order = 60\n",
    "\n",
    "for i1 in range(1,8):\n",
    "    for i2 in range(i1,8):\n",
    "        for i3 in range(i2,8):\n",
    "             for i4 in range(i3,8):\n",
    "                    if (1^2+i1^2+i2^2+i3^2+i4^2==order):\n",
    "                        print(1, i1, i2, i3, i4)"
   ]
  },
  {
   "cell_type": "markdown",
   "metadata": {
    "collapsed": false
   },
   "source": [
    "Find the adjacencies of vertices. Which distances occur?"
   ]
  },
  {
   "cell_type": "code",
   "execution_count": 6,
   "metadata": {
    "collapsed": false
   },
   "outputs": [
    {
     "name": "stdout",
     "output_type": "stream",
     "text": [
      "0.0\n",
      "2.0\n",
      "3.24\n",
      "3.81\n",
      "2.0\n",
      "3.24\n",
      "2.0\n",
      "3.24\n",
      "2.0\n",
      "2.0\n",
      "3.24\n",
      "3.24\n"
     ]
    }
   ],
   "source": [
    "for i in range(0,1):\n",
    "    for j in range(0,12):\n",
    "        print(round(norm(vector(icos_vertex_list[i])-vector(icos_vertex_list[j])),2))"
   ]
  },
  {
   "cell_type": "markdown",
   "metadata": {
    "collapsed": false
   },
   "source": [
    "Find all those with distance (squared) 2"
   ]
  },
  {
   "cell_type": "code",
   "execution_count": 7,
   "metadata": {
    "collapsed": false,
    "scrolled": true
   },
   "outputs": [
    {
     "name": "stdout",
     "output_type": "stream",
     "text": [
      "[1, 4, 6, 8, 9]\n",
      "[0, 4, 6, 10, 11]\n",
      "[3, 5, 7, 8, 9]\n",
      "[2, 5, 7, 10, 11]\n",
      "[0, 1, 5, 8, 10]\n",
      "[2, 3, 4, 8, 10]\n",
      "[0, 1, 7, 9, 11]\n",
      "[2, 3, 6, 9, 11]\n",
      "[0, 2, 4, 5, 9]\n",
      "[0, 2, 6, 7, 8]\n",
      "[1, 3, 4, 5, 11]\n",
      "[1, 3, 6, 7, 10]\n"
     ]
    }
   ],
   "source": [
    "adj=[]\n",
    "for i in range(0,len(icos_vertex_list)):\n",
    "    adj.append([])\n",
    "    for j in range(0,12):\n",
    "        if round(norm(vector(icos_vertex_list[i])-vector(icos_vertex_list[j])),2)==2.00:\n",
    "            adj[i].append(j)\n",
    "    print(adj[i])"
   ]
  },
  {
   "cell_type": "markdown",
   "metadata": {
    "collapsed": false
   },
   "source": [
    "Getting the list of edges"
   ]
  },
  {
   "cell_type": "code",
   "execution_count": 8,
   "metadata": {
    "collapsed": false
   },
   "outputs": [
   ],
   "source": [
    "icos_edges = []\n",
    "for i in range(0,len(adj)):\n",
    "    for j in range(0,len(adj[i])):\n",
    "        icos_edges.append( line3d( [icos_vertex_list[i], icos_vertex_list[adj[i][j]]], thickness=10) )"
   ]
  },
  {
   "cell_type": "code",
   "execution_count": 9,
   "metadata": {
    "collapsed": false
   },
   "outputs": [
   ],
   "source": [
    "vertices = point3d(icos_vertex_list, size=100)\n",
    "icosahedron = vertices\n",
    "for edge in icos_edges:\n",
    "    icosahedron = icosahedron + edge"
   ]
  },
  {
   "cell_type": "code",
   "execution_count": 10,
   "metadata": {
    "collapsed": false
   },
   "outputs": [
    {
     "data": {
      "text/html": "\n<iframe srcdoc=\"\n<html>\n<head>\n  <style>\n    * {\n      margin: 0;\n      padding: 0;\n      overflow: hidden;\n    }\n    body, html {      \n      height: 100%;\n      width: 100%;\n    }\n  </style>\n  <script type=&quot;text/javascript&quot; src=&quot;/nbextensions/jsmol/JSmol.min.js&quot;></script>\n</head>\n<body>\n  <script type=&quot;text/javascript&quot;>\n    var script = [\n  'data &quot;model list&quot;',\n  '10',\n  'empty',\n  'Xx -3.0 -4.0 -3.0',\n  'Xx 0.0 -4.0 -3.0',\n  'Xx 3.0 -4.0 -3.0',\n  'Xx 4.0 -3.0 -3.0',\n  'Xx 4.0 0.0 -3.0',\n  'Xx 4.0 3.0 -3.0',\n  'Xx -4.0 -3.0 -3.0',\n  'Xx -4.0 -3.0 0.0',\n  'Xx -4.0 -3.0 3.0',\n  'Xx 5.5 5.5 5.5',\n  'end &quot;model list&quot;; show data',\n  'select *',\n  'wireframe off; spacefill off',\n  'set labelOffset 0 0',\n  'background [255,255,255]',\n  'spin OFF',\n  'moveto 0 -764 -346 -545 76.39',\n  'centerAt absolute {0 0 0}',\n  'zoom 100',\n  'frank OFF',\n  'set perspectivedepth ON',\n  'draw point_1 DIAMETER 100 {1.85299567634 0.0 3.0}',\n  'color $point_1  [102,102,255]',\n  'draw point_2 DIAMETER 100 {-1.85299567634 0.0 3.0}',\n  'color $point_2  [102,102,255]',\n  'draw point_3 DIAMETER 100 {1.85299567634 0.0 -3.0}',\n  'color $point_3  [102,102,255]',\n  'draw point_4 DIAMETER 100 {-1.85299567634 0.0 -3.0}',\n  'color $point_4  [102,102,255]',\n  'draw point_5 DIAMETER 100 {0.0 3.0 1.85299567634}',\n  'color $point_5  [102,102,255]',\n  'draw point_6 DIAMETER 100 {0.0 3.0 -1.85299567634}',\n  'color $point_6  [102,102,255]',\n  'draw point_7 DIAMETER 100 {0.0 -3.0 1.85299567634}',\n  'color $point_7  [102,102,255]',\n  'draw point_8 DIAMETER 100 {0.0 -3.0 -1.85299567634}',\n  'color $point_8  [102,102,255]',\n  'draw point_9 DIAMETER 100 {3.0 1.85299567634 0.0}',\n  'color $point_9  [102,102,255]',\n  'draw point_10 DIAMETER 100 {3.0 -1.85299567634 0.0}',\n  'color $point_10  [102,102,255]',\n  'draw point_11 DIAMETER 100 {-3.0 1.85299567634 0.0}',\n  'color $point_11  [102,102,255]',\n  'draw point_12 DIAMETER 100 {-3.0 -1.85299567634 0.0}',\n  'color $point_12  [102,102,255]',\n  'draw line_13 diameter 10 curve {1.85299567634 0.0 3.0}  {-1.85299567634 0.0 3.0} ',\n  'color $line_13  [102,102,255]',\n  'draw line_14 diameter 10 curve {1.85299567634 0.0 3.0}  {0.0 3.0 1.85299567634} ',\n  'color $line_14  [102,102,255]',\n  'draw line_15 diameter 10 curve {1.85299567634 0.0 3.0}  {0.0 -3.0 1.85299567634} ',\n  'color $line_15  [102,102,255]',\n  'draw line_16 diameter 10 curve {1.85299567634 0.0 3.0}  {3.0 1.85299567634 0.0} ',\n  'color $line_16  [102,102,255]',\n  'draw line_17 diameter 10 curve {1.85299567634 0.0 3.0}  {3.0 -1.85299567634 0.0} ',\n  'color $line_17  [102,102,255]',\n  'draw line_18 diameter 10 curve {-1.85299567634 0.0 3.0}  {1.85299567634 0.0 3.0} ',\n  'color $line_18  [102,102,255]',\n  'draw line_19 diameter 10 curve {-1.85299567634 0.0 3.0}  {0.0 3.0 1.85299567634} ',\n  'color $line_19  [102,102,255]',\n  'draw line_20 diameter 10 curve {-1.85299567634 0.0 3.0}  {0.0 -3.0 1.85299567634} ',\n  'color $line_20  [102,102,255]',\n  'draw line_21 diameter 10 curve {-1.85299567634 0.0 3.0}  {-3.0 1.85299567634 0.0} ',\n  'color $line_21  [102,102,255]',\n  'draw line_22 diameter 10 curve {-1.85299567634 0.0 3.0}  {-3.0 -1.85299567634 0.0} ',\n  'color $line_22  [102,102,255]',\n  'draw line_23 diameter 10 curve {1.85299567634 0.0 -3.0}  {-1.85299567634 0.0 -3.0} ',\n  'color $line_23  [102,102,255]',\n  'draw line_24 diameter 10 curve {1.85299567634 0.0 -3.0}  {0.0 3.0 -1.85299567634} ',\n  'color $line_24  [102,102,255]',\n  'draw line_25 diameter 10 curve {1.85299567634 0.0 -3.0}  {0.0 -3.0 -1.85299567634} ',\n  'color $line_25  [102,102,255]',\n  'draw line_26 diameter 10 curve {1.85299567634 0.0 -3.0}  {3.0 1.85299567634 0.0} ',\n  'color $line_26  [102,102,255]',\n  'draw line_27 diameter 10 curve {1.85299567634 0.0 -3.0}  {3.0 -1.85299567634 0.0} ',\n  'color $line_27  [102,102,255]',\n  'draw line_28 diameter 10 curve {-1.85299567634 0.0 -3.0}  {1.85299567634 0.0 -3.0} ',\n  'color $line_28  [102,102,255]',\n  'draw line_29 diameter 10 curve {-1.85299567634 0.0 -3.0}  {0.0 3.0 -1.85299567634} ',\n  'color $line_29  [102,102,255]',\n  'draw line_30 diameter 10 curve {-1.85299567634 0.0 -3.0}  {0.0 -3.0 -1.85299567634} ',\n  'color $line_30  [102,102,255]',\n  'draw line_31 diameter 10 curve {-1.85299567634 0.0 -3.0}  {-3.0 1.85299567634 0.0} ',\n  'color $line_31  [102,102,255]',\n  'draw line_32 diameter 10 curve {-1.85299567634 0.0 -3.0}  {-3.0 -1.85299567634 0.0} ',\n  'color $line_32  [102,102,255]',\n  'draw line_33 diameter 10 curve {0.0 3.0 1.85299567634}  {1.85299567634 0.0 3.0} ',\n  'color $line_33  [102,102,255]',\n  'draw line_34 diameter 10 curve {0.0 3.0 1.85299567634}  {-1.85299567634 0.0 3.0} ',\n  'color $line_34  [102,102,255]',\n  'draw line_35 diameter 10 curve {0.0 3.0 1.85299567634}  {0.0 3.0 -1.85299567634} ',\n  'color $line_35  [102,102,255]',\n  'draw line_36 diameter 10 curve {0.0 3.0 1.85299567634}  {3.0 1.85299567634 0.0} ',\n  'color $line_36  [102,102,255]',\n  'draw line_37 diameter 10 curve {0.0 3.0 1.85299567634}  {-3.0 1.85299567634 0.0} ',\n  'color $line_37  [102,102,255]',\n  'draw line_38 diameter 10 curve {0.0 3.0 -1.85299567634}  {1.85299567634 0.0 -3.0} ',\n  'color $line_38  [102,102,255]',\n  'draw line_39 diameter 10 curve {0.0 3.0 -1.85299567634}  {-1.85299567634 0.0 -3.0} ',\n  'color $line_39  [102,102,255]',\n  'draw line_40 diameter 10 curve {0.0 3.0 -1.85299567634}  {0.0 3.0 1.85299567634} ',\n  'color $line_40  [102,102,255]',\n  'draw line_41 diameter 10 curve {0.0 3.0 -1.85299567634}  {3.0 1.85299567634 0.0} ',\n  'color $line_41  [102,102,255]',\n  'draw line_42 diameter 10 curve {0.0 3.0 -1.85299567634}  {-3.0 1.85299567634 0.0} ',\n  'color $line_42  [102,102,255]',\n  'draw line_43 diameter 10 curve {0.0 -3.0 1.85299567634}  {1.85299567634 0.0 3.0} ',\n  'color $line_43  [102,102,255]',\n  'draw line_44 diameter 10 curve {0.0 -3.0 1.85299567634}  {-1.85299567634 0.0 3.0} ',\n  'color $line_44  [102,102,255]',\n  'draw line_45 diameter 10 curve {0.0 -3.0 1.85299567634}  {0.0 -3.0 -1.85299567634} ',\n  'color $line_45  [102,102,255]',\n  'draw line_46 diameter 10 curve {0.0 -3.0 1.85299567634}  {3.0 -1.85299567634 0.0} ',\n  'color $line_46  [102,102,255]',\n  'draw line_47 diameter 10 curve {0.0 -3.0 1.85299567634}  {-3.0 -1.85299567634 0.0} ',\n  'color $line_47  [102,102,255]',\n  'draw line_48 diameter 10 curve {0.0 -3.0 -1.85299567634}  {1.85299567634 0.0 -3.0} ',\n  'color $line_48  [102,102,255]',\n  'draw line_49 diameter 10 curve {0.0 -3.0 -1.85299567634}  {-1.85299567634 0.0 -3.0} ',\n  'color $line_49  [102,102,255]',\n  'draw line_50 diameter 10 curve {0.0 -3.0 -1.85299567634}  {0.0 -3.0 1.85299567634} ',\n  'color $line_50  [102,102,255]',\n  'draw line_51 diameter 10 curve {0.0 -3.0 -1.85299567634}  {3.0 -1.85299567634 0.0} ',\n  'color $line_51  [102,102,255]',\n  'draw line_52 diameter 10 curve {0.0 -3.0 -1.85299567634}  {-3.0 -1.85299567634 0.0} ',\n  'color $line_52  [102,102,255]',\n  'draw line_53 diameter 10 curve {3.0 1.85299567634 0.0}  {1.85299567634 0.0 3.0} ',\n  'color $line_53  [102,102,255]',\n  'draw line_54 diameter 10 curve {3.0 1.85299567634 0.0}  {1.85299567634 0.0 -3.0} ',\n  'color $line_54  [102,102,255]',\n  'draw line_55 diameter 10 curve {3.0 1.85299567634 0.0}  {0.0 3.0 1.85299567634} ',\n  'color $line_55  [102,102,255]',\n  'draw line_56 diameter 10 curve {3.0 1.85299567634 0.0}  {0.0 3.0 -1.85299567634} ',\n  'color $line_56  [102,102,255]',\n  'draw line_57 diameter 10 curve {3.0 1.85299567634 0.0}  {3.0 -1.85299567634 0.0} ',\n  'color $line_57  [102,102,255]',\n  'draw line_58 diameter 10 curve {3.0 -1.85299567634 0.0}  {1.85299567634 0.0 3.0} ',\n  'color $line_58  [102,102,255]',\n  'draw line_59 diameter 10 curve {3.0 -1.85299567634 0.0}  {1.85299567634 0.0 -3.0} ',\n  'color $line_59  [102,102,255]',\n  'draw line_60 diameter 10 curve {3.0 -1.85299567634 0.0}  {0.0 -3.0 1.85299567634} ',\n  'color $line_60  [102,102,255]',\n  'draw line_61 diameter 10 curve {3.0 -1.85299567634 0.0}  {0.0 -3.0 -1.85299567634} ',\n  'color $line_61  [102,102,255]',\n  'draw line_62 diameter 10 curve {3.0 -1.85299567634 0.0}  {3.0 1.85299567634 0.0} ',\n  'color $line_62  [102,102,255]',\n  'draw line_63 diameter 10 curve {-3.0 1.85299567634 0.0}  {-1.85299567634 0.0 3.0} ',\n  'color $line_63  [102,102,255]',\n  'draw line_64 diameter 10 curve {-3.0 1.85299567634 0.0}  {-1.85299567634 0.0 -3.0} ',\n  'color $line_64  [102,102,255]',\n  'draw line_65 diameter 10 curve {-3.0 1.85299567634 0.0}  {0.0 3.0 1.85299567634} ',\n  'color $line_65  [102,102,255]',\n  'draw line_66 diameter 10 curve {-3.0 1.85299567634 0.0}  {0.0 3.0 -1.85299567634} ',\n  'color $line_66  [102,102,255]',\n  'draw line_67 diameter 10 curve {-3.0 1.85299567634 0.0}  {-3.0 -1.85299567634 0.0} ',\n  'color $line_67  [102,102,255]',\n  'draw line_68 diameter 10 curve {-3.0 -1.85299567634 0.0}  {-1.85299567634 0.0 3.0} ',\n  'color $line_68  [102,102,255]',\n  'draw line_69 diameter 10 curve {-3.0 -1.85299567634 0.0}  {-1.85299567634 0.0 -3.0} ',\n  'color $line_69  [102,102,255]',\n  'draw line_70 diameter 10 curve {-3.0 -1.85299567634 0.0}  {0.0 -3.0 1.85299567634} ',\n  'color $line_70  [102,102,255]',\n  'draw line_71 diameter 10 curve {-3.0 -1.85299567634 0.0}  {0.0 -3.0 -1.85299567634} ',\n  'color $line_71  [102,102,255]',\n  'draw line_72 diameter 10 curve {-3.0 -1.85299567634 0.0}  {-3.0 1.85299567634 0.0} ',\n  'color $line_72  [102,102,255]',\n  'draw line_73 diameter 1 curve {-3.0 -3.0 -3.0}  {-3.0 3.0 -3.0} ',\n  'color $line_73 translucent 0.5 [0,0,0]',\n  'draw line_74 diameter 1 curve {-3.0 3.0 -3.0}  {3.0 3.0 -3.0} ',\n  'color $line_74 translucent 0.5 [0,0,0]',\n  'draw line_75 diameter 1 curve {3.0 3.0 -3.0}  {3.0 -3.0 -3.0} ',\n  'color $line_75 translucent 0.5 [0,0,0]',\n  'draw line_76 diameter 1 curve {3.0 -3.0 -3.0}  {-3.0 -3.0 -3.0} ',\n  'color $line_76 translucent 0.5 [0,0,0]',\n  'draw line_77 diameter 1 curve {-3.0 -3.0 -3.0}  {-3.0 -3.0 3.0} ',\n  'color $line_77 translucent 0.5 [0,0,0]',\n  'draw line_78 diameter 1 curve {-3.0 -3.0 3.0}  {-3.0 3.0 3.0} ',\n  'color $line_78 translucent 0.5 [0,0,0]',\n  'draw line_79 diameter 1 curve {-3.0 3.0 3.0}  {3.0 3.0 3.0} ',\n  'color $line_79 translucent 0.5 [0,0,0]',\n  'draw line_80 diameter 1 curve {3.0 3.0 3.0}  {3.0 -3.0 3.0} ',\n  'color $line_80 translucent 0.5 [0,0,0]',\n  'draw line_81 diameter 1 curve {3.0 -3.0 3.0}  {-3.0 -3.0 3.0} ',\n  'color $line_81 translucent 0.5 [0,0,0]',\n  'draw line_82 diameter 1 curve {-3.0 -3.0 3.0} ',\n  'color $line_82 translucent 0.5 [0,0,0]',\n  'draw line_83 diameter 1 curve {-3.0 3.0 -3.0}  {-3.0 3.0 3.0} ',\n  'color $line_83 translucent 0.5 [0,0,0]',\n  'draw line_84 diameter 1 curve {3.0 -3.0 -3.0}  {3.0 -3.0 3.0} ',\n  'color $line_84 translucent 0.5 [0,0,0]',\n  'draw line_85 diameter 1 curve {3.0 3.0 -3.0}  {3.0 3.0 3.0} ',\n  'color $line_85 translucent 0.5 [0,0,0]',\n  'select atomno = 1',\n  'color atom  [76,76,76]',\n  'label &quot;-1.6&quot;',\n  'select atomno = 2',\n  'color atom  [76,76,76]',\n  'label &quot;0.0&quot;',\n  'select atomno = 3',\n  'color atom  [76,76,76]',\n  'label &quot;1.6&quot;',\n  'select atomno = 4',\n  'color atom  [76,76,76]',\n  'label &quot;-1.6&quot;',\n  'select atomno = 5',\n  'color atom  [76,76,76]',\n  'label &quot;0.0&quot;',\n  'select atomno = 6',\n  'color atom  [76,76,76]',\n  'label &quot;1.6&quot;',\n  'select atomno = 7',\n  'color atom  [76,76,76]',\n  'label &quot;-1.6&quot;',\n  'select atomno = 8',\n  'color atom  [76,76,76]',\n  'label &quot;0.0&quot;',\n  'select atomno = 9',\n  'color atom  [76,76,76]',\n  'label &quot;1.6&quot;',\n  'isosurface fullylit; pmesh o* fullylit; set antialiasdisplay on;',\n].join('\\n');;\n    var Info = {\n      width: '100%',\n      height: '500',\n      debug: false,\n      disableInitialConsole: true,   // very slow when used with inline mesh\n      color: '#3131ff',\n      addSelectionOptions: false,\n      use: 'HTML5',\n      j2sPath: '/nbextensions/jsmol/j2s',\n      script: script,\n    };\n    var jmolApplet0 = Jmol.getApplet('jmolApplet0', Info);\n  </script>\n</body>\n</html>\n\" \n        width=\"100%\"\n        height=\"500\"\n        style=\"border: 0;\">\n</iframe>\n"
     },
     "execution_count": 10,
     "metadata": {
     },
     "output_type": "execute_result"
    }
   ],
   "source": [
    "show(icosahedron)"
   ]
  }
 ],
 "metadata": {
  "kernelspec": {
   "display_name": "SageMath (stable)",
   "name": "sagemath"
  },
  "language_info": {
   "codemirror_mode": {
    "name": "ipython",
    "version": 2
   },
   "file_extension": ".py",
   "mimetype": "text/x-python",
   "name": "python",
   "nbconvert_exporter": "python",
   "pygments_lexer": "ipython2",
   "version": "2.7.14"
  }
 },
 "nbformat": 4,
 "nbformat_minor": 0
}