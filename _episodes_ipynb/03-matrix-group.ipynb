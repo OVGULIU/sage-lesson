{
 "cells": [
  {
   "cell_type": "markdown",
   "metadata": {},
   "source": [
    "---\n",
    "title: Matrix Group Closure\n",
    "teaching: 30\n",
    "exercises: 0\n",
    "questions:\n",
    "- \"...\"\n",
    "objectives:\n",
    "- \"...\"\n",
    "---\n",
    "\n",
    "Multiply together till you achieve closure (of the group)"
   ]
  },
  {
   "cell_type": "code",
   "execution_count": 12,
   "metadata": {
    "collapsed": false
   },
   "outputs": [
    {
     "name": "stdout",
     "output_type": "stream",
     "text": [
      "([1 0 0]\n",
      "[0 1 0]\n",
      "[0 0 1], 2)\n",
      "(0, 2)\n",
      "[1 0 0]\n",
      "[0 1 0]\n",
      "[0 0 1]\n",
      "(1, 1)\n",
      "[1 0 0]\n",
      "[0 1 0]\n",
      "[0 0 1]\n"
     ]
    }
   ],
   "source": [
    "count = 1\n",
    "\n",
    "g = [A]\n",
    "\n",
    "for i in range(count):\n",
    "    for j in range(count):\n",
    "        new = True\n",
    "        tmp = g[i] * g[j]\n",
    "        for k in range(count):\n",
    "            if (tmp - g[k]).norm().abs() < 0.01:\n",
    "                new = False\n",
    "        if new:\n",
    "            count += 1\n",
    "            g.append(tmp)\n",
    "            print(g[-1], count)\n",
    "        \n",
    "# don't do this till later\n",
    "I3 = identity_matrix(3)        \n",
    "tmp = identity_matrix(3)\n",
    "for i in range(count):\n",
    "    for j in range(10):\n",
    "        tmp = tmp * g[i]\n",
    "        if (tmp - I3).norm().abs() < 0.01:\n",
    "            print(i,j+1)\n",
    "            print(g[i]^(j+1))   # comment out or assert        \n",
    "            break\n",
    "\n"
   ]
  },
  {
   "cell_type": "markdown",
   "metadata": {},
   "source": [
    "Find the inverses to the group elements"
   ]
  },
  {
   "cell_type": "code",
   "execution_count": 13,
   "metadata": {
    "collapsed": false
   },
   "outputs": [
    {
     "name": "stdout",
     "output_type": "stream",
     "text": [
      "[-1  0  0]\n",
      "[ 0 -1  0]\n",
      "[ 0  0 -1]\n",
      "[-1  0  0]\n",
      "[ 0 -1  0]\n",
      "[ 0  0 -1]\n",
      "[1 0 0]\n",
      "[0 1 0]\n",
      "[0 0 1]\n",
      "[1 0 0]\n",
      "[0 1 0]\n",
      "[0 0 1]\n",
      "[1 0 0]\n",
      "[0 1 0]\n",
      "[0 0 1]\n",
      "[1 0 0]\n",
      "[0 1 0]\n",
      "[0 0 1]\n"
     ]
    }
   ],
   "source": [
    "I3 = identity_matrix(3)\n",
    "\n",
    "g_inverse = []\n",
    "\n",
    "for i in range(count):\n",
    "    for j in range(count):\n",
    "        if (I3-g[i]*g[j])<0.01:\n",
    "            g_inverse.append(g[j])\n",
    "\n",
    "for i in range(count):\n",
    "    print (g[i])\n",
    "    print (g_inverse[i])\n",
    "    print (g[i]*g_inverse[i])\n",
    "\n"
   ]
  },
  {
   "cell_type": "markdown",
   "metadata": {
    "collapsed": true
   },
   "source": [
    "## From reflection formula find matrix?\n",
    "\n",
    "for x'=x-2x_parallel=x-2(x.n)n/(n.n), resolve for components x=(x1, x2, x3) and n=(n1, n2, n3) find 3x3 matrix"
   ]
  },
  {
   "cell_type": "code",
   "execution_count": 14,
   "metadata": {
    "collapsed": false
   },
   "outputs": [],
   "source": [
    "# TODO: n-dimensional case\n",
    "\n"
   ]
  },
  {
   "cell_type": "code",
   "execution_count": 15,
   "metadata": {
    "collapsed": true
   },
   "outputs": [],
   "source": [
    "def reflection_matrix(v, normalize=True):\n",
    "    \"\"\"\n",
    "    Return the reflection matrix to the plane with normal vector v\n",
    "    \n",
    "    INPUT:\n",
    "    \n",
    "      - ``v`` -- vector or any iterable that can be turned into a vector\n",
    "      - ``normalize`` -- boolean (default: True)\n",
    "      \n",
    "    If ``normalize`` is ``False``, assume the vector is a unit vector and avoid normalizing.\n",
    "\n",
    "    EXAMPLE:\n",
    "    \n",
    "        sage: a, b, c = SR.var(\"a b c\")\n",
    "        sage: A = reflection_matrix((a, b, c))\n",
    "        sage: A\n",
    "        [-a^2 + b^2 + c^2           -2*a*b           -2*a*c]\n",
    "        [          -2*a*b  a^2 - b^2 + c^2           -2*b*c]\n",
    "        [          -2*a*c           -2*b*c  a^2 + b^2 - c^2]\n",
    "    \"\"\"\n",
    "    v = vector(v)\n",
    "    m = matrix(v)\n",
    "    n = len(v)\n",
    "    R = v.base_ring()\n",
    "    if normalize:\n",
    "        return (identity_matrix(n) - 2/v.dot_product(v) * m.transpose() * m)\n",
    "    return (v.dot_product(v) * identity_matrix(n) - 2 * m.transpose() * m)"
   ]
  },
  {
   "cell_type": "code",
   "execution_count": 16,
   "metadata": {
    "collapsed": false
   },
   "outputs": [
    {
     "data": {
      "text/plain": [
       "[-2*n1^2/(n1^2 + n2^2 + n3^2) + 1    -2*n1*n2/(n1^2 + n2^2 + n3^2)    -2*n1*n3/(n1^2 + n2^2 + n3^2)]\n",
       "[   -2*n1*n2/(n1^2 + n2^2 + n3^2) -2*n2^2/(n1^2 + n2^2 + n3^2) + 1    -2*n2*n3/(n1^2 + n2^2 + n3^2)]\n",
       "[   -2*n1*n3/(n1^2 + n2^2 + n3^2)    -2*n2*n3/(n1^2 + n2^2 + n3^2) -2*n3^2/(n1^2 + n2^2 + n3^2) + 1]"
      ]
     },
     "execution_count": 16,
     "metadata": {},
     "output_type": "execute_result"
    }
   ],
   "source": [
    "n1, n2, n3 = SR.var(\"n1 n2 n3\")\n",
    "\n",
    "A=reflection_matrix([n1, n2, n3])\n",
    "\n",
    "A"
   ]
  },
  {
   "cell_type": "code",
   "execution_count": 17,
   "metadata": {
    "collapsed": true
   },
   "outputs": [],
   "source": [
    "r = reflection_matrix\n",
    "a, b, c = r((1, 0, 0)), r((-1/4*(1+sqrt(5)), -1/2, -1/4*(1-sqrt(5)))), r((0, 0, 1))"
   ]
  }
 ],
 "metadata": {
  "kernelspec": {
   "display_name": "SageMath 7.4",
   "language": "",
   "name": "sagemath"
  },
  "language_info": {
   "codemirror_mode": {
    "name": "ipython",
    "version": 2
   },
   "file_extension": ".py",
   "mimetype": "text/x-python",
   "name": "python",
   "nbconvert_exporter": "python",
   "pygments_lexer": "ipython2",
   "version": "2.7.10"
  }
 },
 "nbformat": 4,
 "nbformat_minor": 0
}
