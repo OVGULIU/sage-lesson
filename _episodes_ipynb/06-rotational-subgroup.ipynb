{
 "cells": [
  {
   "cell_type": "markdown",
   "metadata": {},
   "source": [
    "---\n",
    "title: Rotational Subgroup\n",
    "teaching: 30\n",
    "exercises: 0\n",
    "questions:\n",
    "- \"...\"\n",
    "objectives:\n",
    "- \"...\"\n",
    "---"
   ]
  },
  {
   "cell_type": "code",
   "execution_count": null,
   "metadata": {
    "collapsed": false
   },
   "outputs": [],
   "source": [
    "g"
   ]
  },
  {
   "cell_type": "code",
   "execution_count": null,
   "metadata": {
    "collapsed": false,
    "scrolled": true
   },
   "outputs": [],
   "source": [
    "counteven=0\n",
    "g_even = []\n",
    "for i in range(count):\n",
    "    if (((g[i]).determinant()-1).abs() < 0.01):\n",
    "        counteven += 1\n",
    "        g_even.append(g[i])\n",
    "        print(g_even[-1], counteven) #\n",
    "\n",
    "\n"
   ]
  },
  {
   "cell_type": "code",
   "execution_count": null,
   "metadata": {
    "collapsed": false
   },
   "outputs": [],
   "source": [
    "closed = false\n",
    "\n",
    "for i in range(counteven):\n",
    "    for j in range(counteven):\n",
    "\n",
    "        tmp = g_even[i] * g_even[j]\n",
    "        new = true\n",
    "\n",
    "        #create a function that compares to group elements and returns label k if it is contained in the group?\n",
    "        for k in range(counteven):\n",
    "            if (tmp - g_even[k]).norm().abs() < 0.01:\n",
    "                new = false\n",
    "                break\n",
    "            \n",
    "        if new:  \n",
    "            print(\"not closed\")\n",
    "            closed = false\n",
    "            break\n",
    "\n",
    "if closed: \n",
    "    print (\"closed\")\n",
    "\n",
    "g_even_inverse = []\n",
    "\n",
    "#create a function that makes inverses\n",
    "for i in range(counteven):\n",
    "    for j in range(counteven):\n",
    "        if (I3-g_even[i] * g_even[j])<0.01:\n",
    "            g_even_inverse.append(g[j])\n",
    "            print(g_even_inverse[-1]) #\n"
   ]
  }
 ],
 "metadata": {
  "kernelspec": {
   "display_name": "SageMath 7.4",
   "language": "",
   "name": "sagemath"
  },
  "language_info": {
   "codemirror_mode": {
    "name": "ipython",
    "version": 2
   },
   "file_extension": ".py",
   "mimetype": "text/x-python",
   "name": "python",
   "nbconvert_exporter": "python",
   "pygments_lexer": "ipython2",
   "version": "2.7.10"
  }
 },
 "nbformat": 4,
 "nbformat_minor": 0
}
